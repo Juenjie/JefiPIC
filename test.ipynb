{
 "cells": [
  {
   "cell_type": "code",
   "execution_count": 4,
   "id": "f7b78771-88b4-4863-9daa-118b481548ff",
   "metadata": {},
   "outputs": [],
   "source": [
    "from EMsolver.solver import EMsolver\n",
    "from RBG_Maxwell.Plasma.utils import find_largest_time_steps\n",
    "from Particle_transport.main import pic_transport\n",
    "import cupy\n",
    "import numpy as np\n",
    "from RBG_Maxwell.Unit_conversion.main import unit_conversion\n",
    "import time\n",
    "import os\n",
    "os.environ[\"CUDA_VISIBLE_DEVICES\"]=\"0\""
   ]
  },
  {
   "cell_type": "markdown",
   "id": "7acbe98d-5b31-46d7-98d3-f1e618914223",
   "metadata": {},
   "source": [
    "# Flexible Unit conversion"
   ]
  },
  {
   "cell_type": "code",
   "execution_count": 5,
   "id": "9600897c-ca03-4a00-ac6d-3c3895a86895",
   "metadata": {},
   "outputs": [],
   "source": [
    "# Unit conversion table\n",
    "hbar, c, lambdax, epsilon0 = 1.1822579826363647e-07, 2.9979090484247153, 1.386275612896618e-15, 90631227428685.16\n",
    "conversion_table = \\\n",
    "unit_conversion('SI_to_LHQCD', coef_J_to_E=lambdax, hbar=hbar, c=c, k=1., epsilon0=epsilon0)\n",
    "conversion_table_reverse = \\\n",
    "unit_conversion('LHQCD_to_SI', coef_J_to_E=lambdax, hbar=hbar, c=c, k=1., epsilon0=epsilon0)"
   ]
  },
  {
   "cell_type": "raw",
   "id": "a6a6ada8-a40a-416d-9a13-7ffd655110fb",
   "metadata": {},
   "source": [
    "# conversion_table\n",
    " 'Joules': 721357276069008.8, \n",
    " 'meter': 15541.21524167369,\n",
    " 'second': 1554125418846.7249,\n",
    " 'kilogram': 7.213621991693117e+30,\n",
    " 'Kelvin': 9.959419232046767e-09,\n",
    " 'Ampere': 6893696364.342851,\n",
    " 'Coulomb': 1.0713703277570692e+22,\n",
    " 'Tesla': 0.00043324057020635494,\n",
    " 'Volt/m': 4.3323823077185345e-12,\n",
    " 'momentum': 7.2135991123851805e+22,\n",
    " 'force': 46415823388.27953,\n",
    " 'unit charge': 1716.5208017963178"
   ]
  },
  {
   "cell_type": "raw",
   "id": "737ee4d9-aa29-4318-bbce-b7cf90b5cdae",
   "metadata": {},
   "source": [
    "conversion_table_reverse\n",
    " 'TO_Joules': 1.386275612896618e-15,\n",
    " 'TO_meter': 6.434503251190454e-05,\n",
    " 'TO_second': 6.434487126155323e-13,\n",
    " 'TO_kilogram': 1.3862661519435797e-31,\n",
    " 'TO_Kelvin': 100407461.18832567,\n",
    " 'TO_Ampere': 1.4506005880566894e-10,\n",
    " 'TO_Coulomb': 9.333840728009668e-23,\n",
    " 'TO_Tesla': 2308.186418284175,\n",
    " 'TO_Volt/m': 230819888221.4085,\n",
    " 'TO_momentum': 1.3862705487515643e-23,\n",
    " 'TO_force': 2.154437704648174e-11,\n",
    " 'TO_unit charge': 0.0005825737730375958"
   ]
  },
  {
   "cell_type": "markdown",
   "id": "21240956-93cb-44de-b3b8-bb029100e9d3",
   "metadata": {},
   "source": [
    "# Initial variables"
   ]
  },
  {
   "cell_type": "code",
   "execution_count": 6,
   "id": "1b7dd080-139a-418a-b1e1-af2f1605b5fd",
   "metadata": {},
   "outputs": [],
   "source": [
    "# Physical parameters\n",
    "macro_particle = 0.05\n",
    "charges = [-1.60217733e-19*conversion_table['Coulomb']*macro_particle] # unit in Coulomb\n",
    "masses = [9.1093897e-31*conversion_table['kilogram']*macro_particle] # unit in kg\n",
    "number_charges = [macro_particle]\n",
    "\n",
    "# Grid initial\n",
    "# Grid boundary\n",
    "x_left_bound_o, y_left_bound_o, z_left_bound_o = 0, 0, 0 # Observation\n",
    "x_left_bound_s, y_left_bound_s, z_left_bound_s = x_left_bound_o, y_left_bound_o, z_left_bound_o # Source\n",
    "\n",
    "# Grid size\n",
    "dx, dy, dz = 1e-5*conversion_table['meter'], 1e-5*conversion_table['meter'], 1e-5*conversion_table['meter']\n",
    "dx_o, dy_o, dz_o = dx, dy, dz # Observation\n",
    "dx_s, dy_s, dz_s = dx_o, dy_o, dz_o # Source\n",
    "\n",
    "# Space size\n",
    "nx, ny, nz = 1, 251, 111\n",
    "x_grid_size_o, y_grid_size_o, z_grid_size_o = nx, ny, nz\n",
    "x_grid_size_s, y_grid_size_s, z_grid_size_s = x_grid_size_o, y_grid_size_o, z_grid_size_o\n",
    "\n",
    "# Computing time\n",
    "total_comp_time = 1.0 * 1.0e-9*conversion_table['second'] # unit in second\n",
    "n_step = 100\n",
    "dt = total_comp_time/10000 # unit in second\n",
    "\n",
    "# particle initial\n",
    "initial_energy = 10 # electron velocity in unit of eV\n",
    "initial_velocity = 1 * 3*10**8*np.sqrt(1 - (1 / (1 + initial_energy/510000)**2))*conversion_table['meter']/conversion_table['second'] # electron velocity in unit of m/s\n",
    "total_charge = -0.5e-13 * conversion_table['Coulomb'] # unit in Coulomb\n",
    "number_of_particles = int(total_charge/charges[0]) + 1 # Number of macro particles\n",
    "\n",
    "# Set the positions of all the particles in x, y, and z axes separately\n",
    "pos_x = (0 + 1 * np.random.random(number_of_particles)) * dx\n",
    "pos_y = (124 + 1 * np.random.random(number_of_particles)) * dy\n",
    "pos_z = (5 + 101 * np.random.random(number_of_particles)) * dz\n",
    "pos = {0: np.array([pos_x, pos_y, pos_z]).transpose()} # Positions of all the particles\n",
    "\n",
    "# Set the velocities of all the particles in x, y, and z axes separately\n",
    "v_x = initial_velocity * np.ones(number_of_particles)\n",
    "v_y = initial_velocity * np.ones(number_of_particles)\n",
    "v_z = initial_velocity * np.ones(number_of_particles)\n",
    "velocity = {0: np.array([v_x, v_y, v_z]).transpose()} # Velocities of all the particles"
   ]
  },
  {
   "cell_type": "code",
   "execution_count": 7,
   "id": "23b592df-0a45-4eb3-9888-9b6aa5e61d67",
   "metadata": {},
   "outputs": [],
   "source": [
    "# set up the number of time snapshots to be saved\n",
    "len_time_snapshots = min(find_largest_time_steps(dx_o, dy_o, dz_o, \\\n",
    "                                                 x_left_bound_o, y_left_bound_o, z_left_bound_o, \\\n",
    "                                                 dx_s, dy_s, dz_s, \\\n",
    "                                                 x_left_bound_s, y_left_bound_s, z_left_bound_s, \\\n",
    "                                                 x_grid_size_o, y_grid_size_o, z_grid_size_o, \\\n",
    "                                                 x_grid_size_s, y_grid_size_s, z_grid_size_s,\\\n",
    "                                                 dt, c), 10000)"
   ]
  },
  {
   "cell_type": "markdown",
   "id": "16ffa96a-a449-4c14-8444-5eec2be72c7f",
   "metadata": {},
   "source": [
    "# Initialize the code"
   ]
  },
  {
   "cell_type": "code",
   "execution_count": 8,
   "id": "7171bab0-0523-444f-911e-63038056ff4f",
   "metadata": {},
   "outputs": [],
   "source": [
    "# Initialize the partile transport module\n",
    "PIC = pic_transport(pos, velocity, dt, charges, number_charges, masses, \\\n",
    "                    x_left_bound_o, y_left_bound_o, z_left_bound_o, nx, ny, nz, dx_s, dy_s, dz_s)"
   ]
  },
  {
   "cell_type": "code",
   "execution_count": 9,
   "id": "4cedfe05-61cd-47d9-b27c-6c7deab0266b",
   "metadata": {},
   "outputs": [],
   "source": [
    "# Initialize the electromagnetic field Jefimenko's equations solver\n",
    "PIC_provider = EMsolver(len_time_snapshots, \\\n",
    "                        x_grid_size_o, y_grid_size_o, z_grid_size_o, \\\n",
    "                        x_grid_size_s, y_grid_size_s, z_grid_size_s, \\\n",
    "                        dx_o, dy_o, dz_o, x_left_bound_o, y_left_bound_o, z_left_bound_o, \\\n",
    "                        dx_s, dy_s, dz_s, x_left_bound_s, y_left_bound_s, z_left_bound_s, \\\n",
    "                        dt, epsilon0, c)"
   ]
  },
  {
   "cell_type": "markdown",
   "id": "6501a64b-a280-4b0a-9cb2-2154d685408e",
   "metadata": {},
   "source": [
    "# Plasma evolution"
   ]
  },
  {
   "cell_type": "code",
   "execution_count": 10,
   "id": "44beea01-189d-4290-8e11-d8deee64bbea",
   "metadata": {
    "tags": []
   },
   "outputs": [
    {
     "name": "stdout",
     "output_type": "stream",
     "text": [
      "The total time step is around 101\n",
      "calculating the 0-th time step , finished 0.9900990099009901% \n",
      "calculating the 10-th time step , finished 10.891089108910892% \n",
      "calculating the 20-th time step , finished 20.792079207920793% \n",
      "calculating the 30-th time step , finished 30.693069306930692% \n",
      "calculating the 40-th time step , finished 40.59405940594059% \n",
      "calculating the 50-th time step , finished 50.495049504950494% \n",
      "calculating the 60-th time step , finished 60.396039603960396% \n",
      "calculating the 70-th time step , finished 70.29702970297029% \n",
      "calculating the 80-th time step , finished 80.1980198019802% \n",
      "calculating the 90-th time step , finished 90.0990099009901% \n",
      "calculating the 100-th time step , finished 100.0% \n"
     ]
    }
   ],
   "source": [
    "n_steps = (n_step + 1) # total_comp_time_step\n",
    "diagnose_point = 2 # Save the results up to 100 diagnosing points\n",
    "print_point = n_steps//10 # Print the progress per 10%\n",
    "# Create the diagnosing list\n",
    "electron_rho = []\n",
    "EMfield = []\n",
    "current_rho = []\n",
    "pos_save = []\n",
    "velocity_save = []\n",
    "num_rho = []\n",
    "\n",
    "# Start the time\n",
    "start_time = time.time()\n",
    "print('The total time step is around {}'.format(n_steps))\n",
    "for i_step in range(n_steps):\n",
    "    \n",
    "    ##########################################################################\n",
    "    rho_to_Jefi, Jx_to_Jefi, Jy_to_Jefi, Jz_to_Jefi = PIC.evaluate_rho_J(dx, dy, dz, nx, ny, nz)\n",
    "    ##########################################################################\n",
    "   \n",
    "    rho, Jx, Jy, Jz = rho_to_Jefi.flatten(), \\\n",
    "                      Jx_to_Jefi.flatten(), \\\n",
    "                      Jy_to_Jefi.flatten(), \\\n",
    "                      Jz_to_Jefi.flatten()\n",
    "    \n",
    "    PIC_provider.Jefimenko_solver(rho, Jx, Jy, Jz)\n",
    "    \n",
    "    # atrack EM fields\n",
    "    Ex, Ey, Ez, Bx, By, Bz = PIC_provider.acquire_EB_field()\n",
    "\n",
    "    # Add a external magnetic field\n",
    "    By += 10*conversion_table['Tesla'] \n",
    "\n",
    "    # proceed particle transport\n",
    "    PIC.proceed_one_step(Ex, Ey, Ez, Bx, By, Bz, dx, dy, dz, nx, ny, nz)\n",
    "    \n",
    "    if i_step%print_point == 0 or i_step == n_steps:\n",
    "        print('calculating the {}-th time step'.format(i_step),', finished {}% '.format(100*(i_step+1)/n_steps))\n",
    "    \n",
    "    if i_step%diagnose_point == 0 or i_step == n_steps:       \n",
    "        current_rho.append([Jx_to_Jefi.get(), Jy_to_Jefi.get(), Jz_to_Jefi.get()])\n",
    "        electron_rho.append(rho_to_Jefi.get())\n",
    "        for i_key in pos.keys():\n",
    "            pos_save.append(PIC.pos[i_key].get())\n",
    "            velocity_save.append(PIC.velocity[i_key].get())\n",
    "        num_rho.append(PIC.evaluate_n_nu(dx, dy, dz, nx, ny, nz).get())\n",
    "        EMfield.append([Ex.get(), Ey.get(), Ez.get(), Bx.get(), By.get(), Bz.get()])\n",
    "\n",
    "# End the time\n",
    "end_time = time.time()\n",
    "t_time = end_time - start_time # Give the total computing time"
   ]
  },
  {
   "cell_type": "code",
   "execution_count": 11,
   "id": "ff713736-af7a-4949-a3e2-26a66061f7b2",
   "metadata": {},
   "outputs": [
    {
     "data": {
      "text/plain": [
       "255.17327690124512"
      ]
     },
     "execution_count": 11,
     "metadata": {},
     "output_type": "execute_result"
    }
   ],
   "source": [
    "t_time"
   ]
  },
  {
   "cell_type": "markdown",
   "id": "9ec8520a-3966-4ff1-a031-c9e0c5d992c1",
   "metadata": {},
   "source": [
    "# Data analysis"
   ]
  },
  {
   "cell_type": "code",
   "execution_count": 12,
   "id": "ae9779db-fd14-4b3a-8d83-e490dabbf585",
   "metadata": {},
   "outputs": [
    {
     "data": {
      "image/png": "[encoded data removed]",
      "text/plain": [
       "<Figure size 1500x1000 with 25 Axes>"
      ]
     },
     "metadata": {},
     "output_type": "display_data"
    }
   ],
   "source": [
    "# spatial distribution\n",
    "import matplotlib.pyplot as plt\n",
    "%matplotlib inline\n",
    "xi, yi = np.mgrid[1:252:1,1:112:1]\n",
    "fig, axes = plt.subplots(ncols=5, nrows=5, figsize = (15,10))\n",
    "for jj in range(5):\n",
    "    for kk in range(5):  \n",
    "        axes[jj,kk].pcolormesh(xi, yi, num_rho[jj*10+kk*2+2][0])"
   ]
  },
  {
   "cell_type": "code",
   "execution_count": null,
   "id": "7ca3445d-b9b1-4bac-a904-326d20ed7752",
   "metadata": {},
   "outputs": [],
   "source": []
  }
 ],
 "metadata": {
  "kernelspec": {
   "display_name": "Python 3 (ipykernel)",
   "language": "python",
   "name": "python3"
  },
  "language_info": {
   "codemirror_mode": {
    "name": "ipython",
    "version": 3
   },
   "file_extension": ".py",
   "mimetype": "text/x-python",
   "name": "python",
   "nbconvert_exporter": "python",
   "pygments_lexer": "ipython3",
   "version": "3.8.15"
  }
 },
 "nbformat": 4,
 "nbformat_minor": 5
}
